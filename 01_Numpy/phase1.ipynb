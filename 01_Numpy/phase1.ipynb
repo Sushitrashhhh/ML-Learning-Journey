{
 "cells": [
  {
   "cell_type": "markdown",
   "id": "7d638de2",
   "metadata": {},
   "source": [
    "## Numpy array and basics \n",
    "learn about numpy with me ofc"
   ]
  },
  {
   "cell_type": "code",
   "execution_count": 1,
   "id": "b73880b8",
   "metadata": {},
   "outputs": [
    {
     "name": "stdout",
     "output_type": "stream",
     "text": [
      "Collecting numpy\n",
      "  Downloading numpy-2.3.0-cp312-cp312-win_amd64.whl.metadata (60 kB)\n",
      "Downloading numpy-2.3.0-cp312-cp312-win_amd64.whl (12.7 MB)\n",
      "   ---------------------------------------- 0.0/12.7 MB ? eta -:--:--\n",
      "   ---------------------------------------- 0.0/12.7 MB ? eta -:--:--\n",
      "    --------------------------------------- 0.3/12.7 MB ? eta -:--:--\n",
      "   -- ------------------------------------- 0.8/12.7 MB 1.9 MB/s eta 0:00:07\n",
      "   ---- ----------------------------------- 1.3/12.7 MB 2.2 MB/s eta 0:00:06\n",
      "   ------ --------------------------------- 2.1/12.7 MB 2.5 MB/s eta 0:00:05\n",
      "   --------- ------------------------------ 2.9/12.7 MB 2.8 MB/s eta 0:00:04\n",
      "   ------------ --------------------------- 3.9/12.7 MB 3.2 MB/s eta 0:00:03\n",
      "   ---------------- ----------------------- 5.2/12.7 MB 3.7 MB/s eta 0:00:03\n",
      "   -------------------- ------------------- 6.6/12.7 MB 4.0 MB/s eta 0:00:02\n",
      "   ----------------------- ---------------- 7.6/12.7 MB 4.2 MB/s eta 0:00:02\n",
      "   ---------------------------- ----------- 8.9/12.7 MB 4.3 MB/s eta 0:00:01\n",
      "   ------------------------------- -------- 10.0/12.7 MB 4.6 MB/s eta 0:00:01\n",
      "   ---------------------------------- ----- 11.0/12.7 MB 4.6 MB/s eta 0:00:01\n",
      "   ---------------------------------------  12.6/12.7 MB 4.8 MB/s eta 0:00:01\n",
      "   ---------------------------------------- 12.7/12.7 MB 4.8 MB/s eta 0:00:00\n",
      "Installing collected packages: numpy\n",
      "Successfully installed numpy-2.3.0\n",
      "Note: you may need to restart the kernel to use updated packages.\n"
     ]
    },
    {
     "name": "stderr",
     "output_type": "stream",
     "text": [
      "\n",
      "[notice] A new release of pip is available: 24.2 -> 25.1.1\n",
      "[notice] To update, run: python.exe -m pip install --upgrade pip\n"
     ]
    },
    {
     "name": "stdout",
     "output_type": "stream",
     "text": [
      "Requirement already satisfied: ipykernel in c:\\users\\priyankar\\ml-learning-journey\\venv\\lib\\site-packages (6.29.5)\n",
      "Requirement already satisfied: comm>=0.1.1 in c:\\users\\priyankar\\ml-learning-journey\\venv\\lib\\site-packages (from ipykernel) (0.2.2)\n",
      "Requirement already satisfied: debugpy>=1.6.5 in c:\\users\\priyankar\\ml-learning-journey\\venv\\lib\\site-packages (from ipykernel) (1.8.14)\n",
      "Requirement already satisfied: ipython>=7.23.1 in c:\\users\\priyankar\\ml-learning-journey\\venv\\lib\\site-packages (from ipykernel) (9.3.0)\n",
      "Requirement already satisfied: jupyter-client>=6.1.12 in c:\\users\\priyankar\\ml-learning-journey\\venv\\lib\\site-packages (from ipykernel) (8.6.3)\n",
      "Requirement already satisfied: jupyter-core!=5.0.*,>=4.12 in c:\\users\\priyankar\\ml-learning-journey\\venv\\lib\\site-packages (from ipykernel) (5.8.1)\n",
      "Requirement already satisfied: matplotlib-inline>=0.1 in c:\\users\\priyankar\\ml-learning-journey\\venv\\lib\\site-packages (from ipykernel) (0.1.7)\n",
      "Requirement already satisfied: nest-asyncio in c:\\users\\priyankar\\ml-learning-journey\\venv\\lib\\site-packages (from ipykernel) (1.6.0)\n",
      "Requirement already satisfied: packaging in c:\\users\\priyankar\\ml-learning-journey\\venv\\lib\\site-packages (from ipykernel) (25.0)\n",
      "Requirement already satisfied: psutil in c:\\users\\priyankar\\ml-learning-journey\\venv\\lib\\site-packages (from ipykernel) (7.0.0)\n",
      "Requirement already satisfied: pyzmq>=24 in c:\\users\\priyankar\\ml-learning-journey\\venv\\lib\\site-packages (from ipykernel) (27.0.0)\n",
      "Requirement already satisfied: tornado>=6.1 in c:\\users\\priyankar\\ml-learning-journey\\venv\\lib\\site-packages (from ipykernel) (6.5.1)\n",
      "Requirement already satisfied: traitlets>=5.4.0 in c:\\users\\priyankar\\ml-learning-journey\\venv\\lib\\site-packages (from ipykernel) (5.14.3)\n",
      "Requirement already satisfied: colorama in c:\\users\\priyankar\\ml-learning-journey\\venv\\lib\\site-packages (from ipython>=7.23.1->ipykernel) (0.4.6)\n",
      "Requirement already satisfied: decorator in c:\\users\\priyankar\\ml-learning-journey\\venv\\lib\\site-packages (from ipython>=7.23.1->ipykernel) (5.2.1)\n",
      "Requirement already satisfied: ipython-pygments-lexers in c:\\users\\priyankar\\ml-learning-journey\\venv\\lib\\site-packages (from ipython>=7.23.1->ipykernel) (1.1.1)\n",
      "Requirement already satisfied: jedi>=0.16 in c:\\users\\priyankar\\ml-learning-journey\\venv\\lib\\site-packages (from ipython>=7.23.1->ipykernel) (0.19.2)\n",
      "Requirement already satisfied: prompt_toolkit<3.1.0,>=3.0.41 in c:\\users\\priyankar\\ml-learning-journey\\venv\\lib\\site-packages (from ipython>=7.23.1->ipykernel) (3.0.51)\n",
      "Requirement already satisfied: pygments>=2.4.0 in c:\\users\\priyankar\\ml-learning-journey\\venv\\lib\\site-packages (from ipython>=7.23.1->ipykernel) (2.19.1)\n",
      "Requirement already satisfied: stack_data in c:\\users\\priyankar\\ml-learning-journey\\venv\\lib\\site-packages (from ipython>=7.23.1->ipykernel) (0.6.3)\n",
      "Requirement already satisfied: python-dateutil>=2.8.2 in c:\\users\\priyankar\\ml-learning-journey\\venv\\lib\\site-packages (from jupyter-client>=6.1.12->ipykernel) (2.9.0.post0)\n",
      "Requirement already satisfied: platformdirs>=2.5 in c:\\users\\priyankar\\ml-learning-journey\\venv\\lib\\site-packages (from jupyter-core!=5.0.*,>=4.12->ipykernel) (4.3.8)\n",
      "Requirement already satisfied: pywin32>=300 in c:\\users\\priyankar\\ml-learning-journey\\venv\\lib\\site-packages (from jupyter-core!=5.0.*,>=4.12->ipykernel) (310)\n",
      "Requirement already satisfied: parso<0.9.0,>=0.8.4 in c:\\users\\priyankar\\ml-learning-journey\\venv\\lib\\site-packages (from jedi>=0.16->ipython>=7.23.1->ipykernel) (0.8.4)\n",
      "Requirement already satisfied: wcwidth in c:\\users\\priyankar\\ml-learning-journey\\venv\\lib\\site-packages (from prompt_toolkit<3.1.0,>=3.0.41->ipython>=7.23.1->ipykernel) (0.2.13)\n",
      "Requirement already satisfied: six>=1.5 in c:\\users\\priyankar\\ml-learning-journey\\venv\\lib\\site-packages (from python-dateutil>=2.8.2->jupyter-client>=6.1.12->ipykernel) (1.17.0)\n",
      "Requirement already satisfied: executing>=1.2.0 in c:\\users\\priyankar\\ml-learning-journey\\venv\\lib\\site-packages (from stack_data->ipython>=7.23.1->ipykernel) (2.2.0)\n",
      "Requirement already satisfied: asttokens>=2.1.0 in c:\\users\\priyankar\\ml-learning-journey\\venv\\lib\\site-packages (from stack_data->ipython>=7.23.1->ipykernel) (3.0.0)\n",
      "Requirement already satisfied: pure-eval in c:\\users\\priyankar\\ml-learning-journey\\venv\\lib\\site-packages (from stack_data->ipython>=7.23.1->ipykernel) (0.2.3)\n",
      "Note: you may need to restart the kernel to use updated packages.\n"
     ]
    },
    {
     "name": "stderr",
     "output_type": "stream",
     "text": [
      "\n",
      "[notice] A new release of pip is available: 24.2 -> 25.1.1\n",
      "[notice] To update, run: python.exe -m pip install --upgrade pip\n"
     ]
    }
   ],
   "source": [
    "%pip install numpy\n",
    "%pip install -U ipykernel"
   ]
  },
  {
   "cell_type": "code",
   "execution_count": 4,
   "id": "bf3f8c18",
   "metadata": {},
   "outputs": [],
   "source": [
    "import numpy as np"
   ]
  },
  {
   "cell_type": "markdown",
   "id": "22609160",
   "metadata": {},
   "source": [
    "#### creating arr from list"
   ]
  },
  {
   "cell_type": "code",
   "execution_count": 9,
   "id": "9d7a1a8b",
   "metadata": {},
   "outputs": [
    {
     "name": "stdout",
     "output_type": "stream",
     "text": [
      "1D Array: [1 2 3]\n",
      "2D Array:\n",
      " [[1 2 3]\n",
      " [4 5 6]]\n"
     ]
    }
   ],
   "source": [
    "arr_1d = np.array([1, 2, 3])\n",
    "print(\"1D Array:\", arr_1d)\n",
    "\n",
    "arr_2d = np.array([[1, 2, 3], [4, 5, 6]])\n",
    "print(\"2D Array:\\n\", arr_2d)"
   ]
  },
  {
   "cell_type": "markdown",
   "id": "10f9b9d1",
   "metadata": {},
   "source": [
    "#### List vs numpy arr"
   ]
  },
  {
   "cell_type": "code",
   "execution_count": null,
   "id": "26e9967f",
   "metadata": {},
   "outputs": [
    {
     "name": "stdout",
     "output_type": "stream",
     "text": [
      "Python List mul: [1, 2, 3, 1, 2, 3, 1, 2, 3, 1, 2, 3, 1, 2, 3]\n",
      "Numpy Array mul: [3 6 9]\n",
      "\n",
      " list operation time: 0.10884356498718262\n",
      "Numpy operation time: 0.009534358978271484\n"
     ]
    }
   ],
   "source": [
    "py_lsit=[1, 2, 3]\n",
    "print(\"Python List mul:\", py_lsit*5)\n",
    "\n",
    "np_arr= np.array([1, 2, 3])#elesment wise multiplication\n",
    "print(\"Numpy Array mul:\", np_arr*3) #3 here is the scalar multiplier\n",
    "# -----------------------------------------------\n",
    "\n",
    "\n",
    "import time # ⏱️ Used to measure execution time\n",
    "# -----------------------------------------------\n",
    "# Regular Python list operation\n",
    "start = time.time() # 🕒 Record the start time\n",
    "list=[i*2 for i in range(1000000)] # 📝 List comprehension to create a list of 1 million elements\n",
    "print(\"\\n list operation time:\", time.time() - start) #calculate and print the time taken for the operation\n",
    "\n",
    "# -----------------------------------------------\n",
    "# NumPy array operation (same task, but faster)\n",
    "start = time.time() # 🕒 Record start time again\n",
    "# Create a NumPy array from 0 to 999999 and multiply entire array by 2\n",
    "np_arr = np.arange(1000000)*2\n",
    "# ⏱️ Measure how fast NumPy does the same task\n",
    "print(\"Numpy operation time:\", time.time() - start)\n"
   ]
  },
  {
   "cell_type": "markdown",
   "id": "478e0985",
   "metadata": {},
   "source": [
    "##### creating array from scratch"
   ]
  },
  {
   "cell_type": "code",
   "execution_count": 24,
   "id": "22dc95b1",
   "metadata": {},
   "outputs": [
    {
     "name": "stdout",
     "output_type": "stream",
     "text": [
      "Zeros Array:\n",
      " [[0. 0. 0. 0.]\n",
      " [0. 0. 0. 0.]\n",
      " [0. 0. 0. 0.]]\n",
      "Ones Array:\n",
      " [[1. 1. 1.]\n",
      " [1. 1. 1.]]\n",
      "Full Array:\n",
      " [[7 7]\n",
      " [7 7]]\n",
      "Random Array:\n",
      " [[0.07811504 0.52406703 0.54787676]\n",
      " [0.70704233 0.99386449 0.82584451]]\n",
      "Sequence Array:\n",
      " [ 0  2  4  6  8 10]\n"
     ]
    }
   ],
   "source": [
    "zeros = np.zeros((3, 4))  # Create a 3x4 array filled with zeros\n",
    "print(\"Zeros Array:\\n\", zeros)\n",
    "\n",
    "ones = np.ones((2, 3))    # Create a 2x3 array filled with ones\n",
    "print(\"Ones Array:\\n\", ones)\n",
    "\n",
    "full = np.full((2, 2), 7)  # Create a 2x2 array filled with the number 7\n",
    "print(\"Full Array:\\n\", full)\n",
    "\n",
    "random = np.random.random((2, 3))  # Create a 2x2 array with random floats between 0 and 1\n",
    "print(\"Random Array:\\n\", random)\n",
    "\n",
    "sequence = np.arange(0,11,2)  # Create a sequence of numbers from 0 to 9\n",
    "print(\"Sequence Array:\\n\", sequence)"
   ]
  },
  {
   "cell_type": "markdown",
   "id": "b782dc7d",
   "metadata": {},
   "source": [
    "#### Vector, Matrix and Tensor"
   ]
  },
  {
   "cell_type": "code",
   "execution_count": 32,
   "id": "dbf177cd",
   "metadata": {},
   "outputs": [
    {
     "name": "stdout",
     "output_type": "stream",
     "text": [
      "Vector Array: [2 4 6]\n",
      "matrix:  [[6 7]\n",
      " [8 9]]\n",
      "Tensor Array:\n",
      " [[[1 2]\n",
      "  [3 4]]\n",
      "\n",
      " [[5 6]\n",
      "  [7 8]]]\n"
     ]
    }
   ],
   "source": [
    "vector = np.array([1, 2, 3])  # Create a vector (1D array)\n",
    "vector = vector * 2  # Multiply each element of the vector by 2\n",
    "print(\"Vector Array:\", vector)\n",
    "\n",
    "\n",
    "matrix = np.array([[1, 2], \n",
    "                   [3, 4]])  # Create a 2D array (matrix)\n",
    "matrix = matrix + 5  # Add 5 to each element of the matrix\n",
    "print('matrix: ',matrix)\n",
    "\n",
    "tensor = np.array([[[1, 2], [3, 4]], [[5, 6], [7, 8]]])  # Create a 3D array (tensor)\n",
    "print(\"Tensor Array:\\n\", tensor)"
   ]
  },
  {
   "cell_type": "markdown",
   "id": "d2523cee",
   "metadata": {},
   "source": [
    "#### arr properties"
   ]
  },
  {
   "cell_type": "code",
   "execution_count": 34,
   "id": "a4b4c336",
   "metadata": {},
   "outputs": [
    {
     "name": "stdout",
     "output_type": "stream",
     "text": [
      "shape of arr: (2, 3)\n",
      "size of arr: 6\n",
      "dimensions of arr: 2\n",
      "dtype of arr: int64\n"
     ]
    }
   ],
   "source": [
    "arr = np.array([[1, 2, 3],\n",
    "               [4,5,6]])  # Create a 2D \n",
    "\n",
    "print('shape of arr:', arr.shape)  # Print the shape of the array\n",
    "print('size of arr:', arr.size)  # Print the size of the array\n",
    "print('dimensions of arr:', arr.ndim)  # Print the number of dimensions of the array\n",
    "print('dtype of arr:', arr.dtype)  # Print the data type of the array"
   ]
  },
  {
   "cell_type": "markdown",
   "id": "060a6355",
   "metadata": {},
   "source": [
    "#### Arr reshaping"
   ]
  },
  {
   "cell_type": "code",
   "execution_count": 40,
   "id": "9c59c1c5",
   "metadata": {},
   "outputs": [
    {
     "name": "stdout",
     "output_type": "stream",
     "text": [
      "og arr: [ 0  1  2  3  4  5  6  7  8  9 10 11]\n",
      "\n",
      "reshaped arr: [[ 0  1  2  3]\n",
      " [ 4  5  6  7]\n",
      " [ 8  9 10 11]]\n",
      "\n",
      "flattend arr: [ 0  1  2  3  4  5  6  7  8  9 10 11]\n",
      "\n",
      "raveled arr: [ 0  1  2  3  4  5  6  7  8  9 10 11]\n",
      "\n",
      "transposed arr:\n",
      " [[ 0  4  8]\n",
      " [ 1  5  9]\n",
      " [ 2  6 10]\n",
      " [ 3  7 11]]\n"
     ]
    },
    {
     "data": {
      "text/plain": [
       "\"\\nTL;DR (Quick Pick):\\nUse flatten() when you want to keep the original safe.\\n\\nUse ravel() when you're optimizing and don’t care about modifying the original.\\n\\n\""
      ]
     },
     "execution_count": 40,
     "metadata": {},
     "output_type": "execute_result"
    }
   ],
   "source": [
    "arr = np.arange(12)\n",
    "print('og arr:', arr)\n",
    "\n",
    "arr = arr.reshape(3, 4)  # Reshape the array to 3 rows and 4 columns\n",
    "print('\\nreshaped arr:', arr)\n",
    "\n",
    "flattend_arr = arr.flatten()  # Flatten the array to 1D\n",
    "print('\\nflattend arr:', flattend_arr)\n",
    "\n",
    "#ravel returns a flattened array, but it does not create a copy if the original array is contiguous in memory\n",
    "raveled_arr = arr.ravel()  # Ravel the array to 1D (similar to flatten) \n",
    "print('\\nraveled arr:', raveled_arr)\n",
    "\n",
    "\n",
    "#Transpose the array (swap rows and columns)\n",
    "transposed_arr = arr.T  # Transpose the array\n",
    "print('\\ntransposed arr:\\n', transposed_arr)\n",
    "\n",
    "\n",
    "'''\n",
    "TL;DR (Quick Pick):\n",
    "Use flatten() when you want to keep the original safe.\n",
    "\n",
    "Use ravel() when you're optimizing and don’t care about modifying the original.\n",
    "\n",
    "'''"
   ]
  }
 ],
 "metadata": {
  "kernelspec": {
   "display_name": "venv",
   "language": "python",
   "name": "python3"
  },
  "language_info": {
   "codemirror_mode": {
    "name": "ipython",
    "version": 3
   },
   "file_extension": ".py",
   "mimetype": "text/x-python",
   "name": "python",
   "nbconvert_exporter": "python",
   "pygments_lexer": "ipython3",
   "version": "3.12.6"
  }
 },
 "nbformat": 4,
 "nbformat_minor": 5
}
